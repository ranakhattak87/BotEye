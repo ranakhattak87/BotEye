{
  "cells": [
    {
      "cell_type": "code",
      "execution_count": null,
      "metadata": {
        "colab": {
          "base_uri": "https://localhost:8080/"
        },
        "id": "PwVgbY5dLW-w",
        "outputId": "1c6a0aeb-82f3-4a45-85a2-dadfb5a01f11"
      },
      "outputs": [
        {
          "output_type": "stream",
          "name": "stdout",
          "text": [
            "Drive already mounted at /content/drive; to attempt to forcibly remount, call drive.mount(\"/content/drive\", force_remount=True).\n",
            "Model: \"sequential_2\"\n",
            "_________________________________________________________________\n",
            " Layer (type)                Output Shape              Param #   \n",
            "=================================================================\n",
            " conv2d_6 (Conv2D)           (None, 1278, 718, 32)     896       \n",
            "                                                                 \n",
            " max_pooling2d_6 (MaxPoolin  (None, 639, 359, 32)      0         \n",
            " g2D)                                                            \n",
            "                                                                 \n",
            " conv2d_7 (Conv2D)           (None, 637, 357, 64)      18496     \n",
            "                                                                 \n",
            " max_pooling2d_7 (MaxPoolin  (None, 318, 178, 64)      0         \n",
            " g2D)                                                            \n",
            "                                                                 \n",
            " conv2d_8 (Conv2D)           (None, 316, 176, 64)      36928     \n",
            "                                                                 \n",
            " max_pooling2d_8 (MaxPoolin  (None, 158, 88, 64)       0         \n",
            " g2D)                                                            \n",
            "                                                                 \n",
            " flatten_2 (Flatten)         (None, 889856)            0         \n",
            "                                                                 \n",
            " dense_4 (Dense)             (None, 64)                56950848  \n",
            "                                                                 \n",
            " dense_5 (Dense)             (None, 8)                 520       \n",
            "                                                                 \n",
            "=================================================================\n",
            "Total params: 57007688 (217.47 MB)\n",
            "Trainable params: 57007688 (217.47 MB)\n",
            "Non-trainable params: 0 (0.00 Byte)\n",
            "_________________________________________________________________\n"
          ]
        }
      ],
      "source": [
        "from google.colab import drive\n",
        "drive.mount('/content/drive')\n",
        "import os\n",
        "\n",
        "\n",
        "\n",
        "import tensorflow as tf\n",
        "from tensorflow.keras.models import Sequential\n",
        "from tensorflow.keras.layers import Conv2D, MaxPooling2D, Flatten, Dense\n",
        "\n",
        "output_path = '/content/drive/My Drive/preprocessed_datasets/'  # Update with output path\n",
        "# Define CNN model\n",
        "def create_model(input_shape, num_classes):\n",
        "    model = Sequential([\n",
        "        Conv2D(32, (3, 3), activation='relu', input_shape=input_shape),\n",
        "        MaxPooling2D((2, 2)),\n",
        "        Conv2D(64, (3, 3), activation='relu'),\n",
        "        MaxPooling2D((2, 2)),\n",
        "        Conv2D(64, (3, 3), activation='relu'),\n",
        "        MaxPooling2D((2, 2)),\n",
        "        Flatten(),\n",
        "        Dense(64, activation='relu'),\n",
        "        Dense(num_classes, activation='softmax')\n",
        "    ])\n",
        "    return model\n",
        "\n",
        "# Define input shape and number of classes\n",
        "input_shape = (1280, 720, 3)  # Update according to your frame size\n",
        "num_classes = len(os.listdir(output_path))\n",
        "\n",
        "# Create the model\n",
        "model = create_model(input_shape, num_classes)\n",
        "\n",
        "# Compile the model\n",
        "model.compile(optimizer='adam', loss='categorical_crossentropy', metrics=['accuracy'])\n",
        "\n",
        "# Display model summary\n",
        "model.summary()\n"
      ]
    },
    {
      "cell_type": "code",
      "source": [
        "\n",
        "from google.colab import drive\n",
        "drive.mount('/content/drive')\n",
        "import os\n",
        "\n",
        "\n",
        "\n",
        "import tensorflow as tf\n",
        "from tensorflow.keras.models import Sequential\n",
        "from tensorflow.keras.layers import Conv2D, MaxPooling2D, Flatten, Dense\n",
        "\n",
        "output_path = '/content/drive/My Drive/preprocessed_datasets/'  # Update with output path\n",
        "\n",
        "# Get valid class directories\n",
        "valid_class_dirs = [d for d in os.listdir(output_path) if os.path.isdir(os.path.join(output_path, d))]\n",
        "num_classes = len(valid_class_dirs)  # Count only valid class directories\n",
        "\n",
        "# Define CNN model\n",
        "def create_model(input_shape, num_classes):\n",
        "    model = Sequential([\n",
        "        Conv2D(32, (3, 3), activation='relu', input_shape=input_shape),\n",
        "        MaxPooling2D((2, 2)),\n",
        "        Conv2D(64, (3, 3), activation='relu'),\n",
        "        MaxPooling2D((2, 2)),\n",
        "        Conv2D(64, (3, 3), activation='relu'),\n",
        "        MaxPooling2D((2, 2)),\n",
        "        Flatten(),\n",
        "        Dense(64, activation='relu'),\n",
        "        Dense(num_classes, activation='softmax')\n",
        "    ])\n",
        "    return model\n",
        "\n",
        "# Define input shape and number of classes\n",
        "input_shape = (1280, 720, 3)  # Update according to your frame size\n",
        "\n",
        "\n",
        "# Create the model\n",
        "model = create_model(input_shape, num_classes)\n",
        "\n",
        "# Compile the model\n",
        "model.compile(optimizer='adam', loss='categorical_crossentropy', metrics=['accuracy'])\n",
        "\n",
        "# Display model summary\n",
        "model.summary()"
      ],
      "metadata": {
        "id": "xrhNj2EHZL3q",
        "colab": {
          "base_uri": "https://localhost:8080/"
        },
        "outputId": "dd7e08bb-a312-4f1d-9314-8fef44d995c1"
      },
      "execution_count": null,
      "outputs": [
        {
          "output_type": "stream",
          "name": "stdout",
          "text": [
            "Drive already mounted at /content/drive; to attempt to forcibly remount, call drive.mount(\"/content/drive\", force_remount=True).\n",
            "Model: \"sequential_3\"\n",
            "_________________________________________________________________\n",
            " Layer (type)                Output Shape              Param #   \n",
            "=================================================================\n",
            " conv2d_9 (Conv2D)           (None, 1278, 718, 32)     896       \n",
            "                                                                 \n",
            " max_pooling2d_9 (MaxPoolin  (None, 639, 359, 32)      0         \n",
            " g2D)                                                            \n",
            "                                                                 \n",
            " conv2d_10 (Conv2D)          (None, 637, 357, 64)      18496     \n",
            "                                                                 \n",
            " max_pooling2d_10 (MaxPooli  (None, 318, 178, 64)      0         \n",
            " ng2D)                                                           \n",
            "                                                                 \n",
            " conv2d_11 (Conv2D)          (None, 316, 176, 64)      36928     \n",
            "                                                                 \n",
            " max_pooling2d_11 (MaxPooli  (None, 158, 88, 64)       0         \n",
            " ng2D)                                                           \n",
            "                                                                 \n",
            " flatten_3 (Flatten)         (None, 889856)            0         \n",
            "                                                                 \n",
            " dense_6 (Dense)             (None, 64)                56950848  \n",
            "                                                                 \n",
            " dense_7 (Dense)             (None, 7)                 455       \n",
            "                                                                 \n",
            "=================================================================\n",
            "Total params: 57007623 (217.47 MB)\n",
            "Trainable params: 57007623 (217.47 MB)\n",
            "Non-trainable params: 0 (0.00 Byte)\n",
            "_________________________________________________________________\n"
          ]
        }
      ]
    },
    {
      "cell_type": "code",
      "source": [
        "from tensorflow.keras.preprocessing.image import ImageDataGenerator\n",
        "\n",
        "# Define data generators\n",
        "train_datagen = ImageDataGenerator(rescale=1./255, validation_split=0.2)\n",
        "\n",
        "train_generator = train_datagen.flow_from_directory(\n",
        "    output_path,\n",
        "    target_size=(1280, 720),\n",
        "    batch_size=12,\n",
        "    class_mode='categorical',\n",
        "    subset='training')\n",
        "print(len(train_generator))\n",
        "validation_generator = train_datagen.flow_from_directory(\n",
        "    output_path,\n",
        "    target_size=(1280, 720),\n",
        "    batch_size=12,\n",
        "    class_mode='categorical',\n",
        "    subset='validation')\n",
        "\n"
      ],
      "metadata": {
        "colab": {
          "base_uri": "https://localhost:8080/"
        },
        "id": "BMWmZvE3VwFK",
        "outputId": "5f8a11af-fe6f-4f2d-fd5e-cccc5a432e48"
      },
      "execution_count": null,
      "outputs": [
        {
          "output_type": "stream",
          "name": "stdout",
          "text": [
            "Found 126922 images belonging to 7 classes.\n",
            "10577\n",
            "Found 31727 images belonging to 7 classes.\n"
          ]
        }
      ]
    }
  ],
  "metadata": {
    "colab": {
      "provenance": []
    },
    "kernelspec": {
      "display_name": "Python 3",
      "name": "python3"
    },
    "language_info": {
      "name": "python"
    }
  },
  "nbformat": 4,
  "nbformat_minor": 0
}