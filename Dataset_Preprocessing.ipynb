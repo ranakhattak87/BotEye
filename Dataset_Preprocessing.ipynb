{
  "cells": [
    {
      "cell_type": "code",
      "execution_count": 1,
      "metadata": {
        "colab": {
          "base_uri": "https://localhost:8080/",
          "height": 329
        },
        "id": "2Y99FOFxI6z-",
        "outputId": "102d38b8-23ac-4b6c-be77-c46ceeff654f"
      },
      "outputs": [
        {
          "metadata": {
            "tags": null
          },
          "name": "stdout",
          "output_type": "stream",
          "text": [
            "Drive already mounted at /content/drive; to attempt to forcibly remount, call drive.mount(\"/content/drive\", force_remount=True).\n"
          ]
        },
        {
          "output_type": "error",
          "ename": "KeyboardInterrupt",
          "evalue": "",
          "traceback": [
            "\u001b[0;31m---------------------------------------------------------------------------\u001b[0m",
            "\u001b[0;31mKeyboardInterrupt\u001b[0m                         Traceback (most recent call last)",
            "\u001b[0;32m<ipython-input-1-e843edd57afa>\u001b[0m in \u001b[0;36m<cell line: 46>\u001b[0;34m()\u001b[0m\n\u001b[1;32m     54\u001b[0m   \u001b[0;32mfor\u001b[0m \u001b[0mvideo_file\u001b[0m \u001b[0;32min\u001b[0m \u001b[0mos\u001b[0m\u001b[0;34m.\u001b[0m\u001b[0mlistdir\u001b[0m\u001b[0;34m(\u001b[0m\u001b[0mclass_path\u001b[0m\u001b[0;34m)\u001b[0m\u001b[0;34m:\u001b[0m\u001b[0;34m\u001b[0m\u001b[0;34m\u001b[0m\u001b[0m\n\u001b[1;32m     55\u001b[0m     \u001b[0mvideo_path\u001b[0m \u001b[0;34m=\u001b[0m \u001b[0mos\u001b[0m\u001b[0;34m.\u001b[0m\u001b[0mpath\u001b[0m\u001b[0;34m.\u001b[0m\u001b[0mjoin\u001b[0m\u001b[0;34m(\u001b[0m\u001b[0mclass_path\u001b[0m\u001b[0;34m,\u001b[0m \u001b[0mvideo_file\u001b[0m\u001b[0;34m)\u001b[0m\u001b[0;34m\u001b[0m\u001b[0;34m\u001b[0m\u001b[0m\n\u001b[0;32m---> 56\u001b[0;31m     \u001b[0mextract_frames\u001b[0m\u001b[0;34m(\u001b[0m\u001b[0mvideo_path\u001b[0m\u001b[0;34m,\u001b[0m \u001b[0moutput_path\u001b[0m\u001b[0;34m)\u001b[0m  \u001b[0;31m# Use class folder as output path\u001b[0m\u001b[0;34m\u001b[0m\u001b[0;34m\u001b[0m\u001b[0m\n\u001b[0m",
            "\u001b[0;32m<ipython-input-1-e843edd57afa>\u001b[0m in \u001b[0;36mextract_frames\u001b[0;34m(video_path, output_folder)\u001b[0m\n\u001b[1;32m     39\u001b[0m     \u001b[0;31m# Construct frame filename with label\u001b[0m\u001b[0;34m\u001b[0m\u001b[0;34m\u001b[0m\u001b[0m\n\u001b[1;32m     40\u001b[0m     \u001b[0mframe_name\u001b[0m \u001b[0;34m=\u001b[0m \u001b[0;34mf'{output_folder}/{label}_frame_{frame_count}.jpg'\u001b[0m\u001b[0;34m\u001b[0m\u001b[0;34m\u001b[0m\u001b[0m\n\u001b[0;32m---> 41\u001b[0;31m     \u001b[0mcv2\u001b[0m\u001b[0;34m.\u001b[0m\u001b[0mimwrite\u001b[0m\u001b[0;34m(\u001b[0m\u001b[0mframe_name\u001b[0m\u001b[0;34m,\u001b[0m \u001b[0mframe\u001b[0m\u001b[0;34m)\u001b[0m\u001b[0;34m\u001b[0m\u001b[0;34m\u001b[0m\u001b[0m\n\u001b[0m\u001b[1;32m     42\u001b[0m \u001b[0;34m\u001b[0m\u001b[0m\n\u001b[1;32m     43\u001b[0m   \u001b[0mcap\u001b[0m\u001b[0;34m.\u001b[0m\u001b[0mrelease\u001b[0m\u001b[0;34m(\u001b[0m\u001b[0;34m)\u001b[0m\u001b[0;34m\u001b[0m\u001b[0;34m\u001b[0m\u001b[0m\n",
            "\u001b[0;31mKeyboardInterrupt\u001b[0m: "
          ]
        }
      ],
      "source": [
        "from google.colab import drive\n",
        "drive.mount('/content/drive')\n",
        "import os\n",
        "\n",
        "# Create a directory to store the dataset\n",
        "dataset_dir = '/content/drive/My Drive/datasets'\n",
        "#os.makedirs(dataset_dir, exist_ok=True)\n",
        "\n",
        "# Change the current directory to the dataset directory\n",
        "os.chdir(dataset_dir)\n",
        "import pandas as pd\n",
        "import os\n",
        "\n",
        "import cv2\n",
        "import numpy as np\n",
        "# Define paths\n",
        "dataset_path = '/content/drive/My Drive/datasets/Segmented/RGBSegmented'  # Update with your dataset path\n",
        "output_path = '/content/drive/My Drive/FramesperLabel/'  # Update with output path\n",
        "def extract_frames(video_path, output_folder):\n",
        "  \"\"\"\n",
        "  Extracts frames from a video and saves them with the label name.\n",
        "\n",
        "  Args:\n",
        "      video_path: Path to the video file.\n",
        "      output_folder: Path to the output folder for extracted frames.\n",
        "  \"\"\"\n",
        "  cap = cv2.VideoCapture(video_path)\n",
        "  frame_count = 0\n",
        "\n",
        "  while True:\n",
        "    ret, frame = cap.read()\n",
        "    if not ret:\n",
        "      break\n",
        "    frame_count += 1\n",
        "\n",
        "    # Extract label from video filename (assuming label is in filename)\n",
        "    label = os.path.splitext(os.path.basename(video_path))[0]  # Get filename without extension\n",
        "\n",
        "    # Construct frame filename with label\n",
        "    frame_name = f'{output_folder}/{label}_frame_{frame_count}.jpg'\n",
        "    cv2.imwrite(frame_name, frame)\n",
        "\n",
        "  cap.release()\n",
        "\n",
        "# Preprocess dataset\n",
        "for class_folder in os.listdir(dataset_path):\n",
        "  class_path = os.path.join(dataset_path, class_folder)\n",
        "  output_path = os.path.join(output_path, class_folder)  # Use class folder as output folder\n",
        "\n",
        "  # Create output folder (assuming it doesn't exist within the class folder)\n",
        "  if not os.path.exists(output_path):\n",
        "    os.makedirs(output_path)\n",
        "\n",
        "  for video_file in os.listdir(class_path):\n",
        "    video_path = os.path.join(class_path, video_file)\n",
        "    extract_frames(video_path, output_path)  # Use class folder as output path\n"
      ]
    }
  ],
  "metadata": {
    "colab": {
      "provenance": [],
      "gpuType": "T4"
    },
    "kernelspec": {
      "display_name": "Python 3",
      "name": "python3"
    },
    "language_info": {
      "name": "python"
    },
    "accelerator": "GPU"
  },
  "nbformat": 4,
  "nbformat_minor": 0
}